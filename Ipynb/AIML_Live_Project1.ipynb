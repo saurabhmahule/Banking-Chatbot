{
 "cells": [
  {
   "cell_type": "code",
   "execution_count": 1,
   "metadata": {},
   "outputs": [],
   "source": [
    "# Importing important liabraries\n",
    "import pandas as pd\n",
    "import numpy as np\n",
    "import matplotlib.pyplot as plt\n",
    "import re\n",
    "import string\n",
    "import pickle\n",
    "import seaborn as sns\n",
    "from sklearn.model_selection import train_test_split\n",
    "from sklearn import svm\n",
    "import nltk\n",
    "from nltk.corpus import stopwords\n",
    "from nltk.tokenize import word_tokenize\n",
    "from nltk.stem.wordnet import WordNetLemmatizer"
   ]
  },
  {
   "cell_type": "markdown",
   "metadata": {},
   "source": [
    "# 1st Session"
   ]
  },
  {
   "cell_type": "code",
   "execution_count": 2,
   "metadata": {},
   "outputs": [
    {
     "data": {
      "text/html": [
       "<div>\n",
       "<style scoped>\n",
       "    .dataframe tbody tr th:only-of-type {\n",
       "        vertical-align: middle;\n",
       "    }\n",
       "\n",
       "    .dataframe tbody tr th {\n",
       "        vertical-align: top;\n",
       "    }\n",
       "\n",
       "    .dataframe thead th {\n",
       "        text-align: right;\n",
       "    }\n",
       "</style>\n",
       "<table border=\"1\" class=\"dataframe\">\n",
       "  <thead>\n",
       "    <tr style=\"text-align: right;\">\n",
       "      <th></th>\n",
       "      <th>Question</th>\n",
       "      <th>Answer</th>\n",
       "      <th>Class</th>\n",
       "    </tr>\n",
       "  </thead>\n",
       "  <tbody>\n",
       "    <tr>\n",
       "      <th>0</th>\n",
       "      <td>What are the documents required for opening a ...</td>\n",
       "      <td>Following documents are required to open a Cur...</td>\n",
       "      <td>accounts</td>\n",
       "    </tr>\n",
       "    <tr>\n",
       "      <th>1</th>\n",
       "      <td>Can I transfer my Current Account from one bra...</td>\n",
       "      <td>Yes, Current Accounts can be transferred from ...</td>\n",
       "      <td>accounts</td>\n",
       "    </tr>\n",
       "    <tr>\n",
       "      <th>2</th>\n",
       "      <td>My present status is NRI. What extra documents...</td>\n",
       "      <td>NRI/PIO can open the proprietorship/partnershi...</td>\n",
       "      <td>accounts</td>\n",
       "    </tr>\n",
       "    <tr>\n",
       "      <th>3</th>\n",
       "      <td>What are the documents required for opening a ...</td>\n",
       "      <td>Following documents are required for opening a...</td>\n",
       "      <td>accounts</td>\n",
       "    </tr>\n",
       "    <tr>\n",
       "      <th>4</th>\n",
       "      <td>What documents are required to change the addr...</td>\n",
       "      <td>Following documents are required to change the...</td>\n",
       "      <td>accounts</td>\n",
       "    </tr>\n",
       "    <tr>\n",
       "      <th>...</th>\n",
       "      <td>...</td>\n",
       "      <td>...</td>\n",
       "      <td>...</td>\n",
       "    </tr>\n",
       "    <tr>\n",
       "      <th>1768</th>\n",
       "      <td>Which languages do you speak</td>\n",
       "      <td>just English. But I'm trying to learn new lang...</td>\n",
       "      <td>accounts</td>\n",
       "    </tr>\n",
       "    <tr>\n",
       "      <th>1769</th>\n",
       "      <td>how much is interest for FD</td>\n",
       "      <td>7%</td>\n",
       "      <td>accounts</td>\n",
       "    </tr>\n",
       "    <tr>\n",
       "      <th>1770</th>\n",
       "      <td>how much is interest for Fixed Deposit</td>\n",
       "      <td>7%</td>\n",
       "      <td>accounts</td>\n",
       "    </tr>\n",
       "    <tr>\n",
       "      <th>1771</th>\n",
       "      <td>Fixed Deposit</td>\n",
       "      <td>7%</td>\n",
       "      <td>accounts</td>\n",
       "    </tr>\n",
       "    <tr>\n",
       "      <th>1772</th>\n",
       "      <td>FD</td>\n",
       "      <td>7%</td>\n",
       "      <td>accounts</td>\n",
       "    </tr>\n",
       "  </tbody>\n",
       "</table>\n",
       "<p>1773 rows × 3 columns</p>\n",
       "</div>"
      ],
      "text/plain": [
       "                                               Question  \\\n",
       "0     What are the documents required for opening a ...   \n",
       "1     Can I transfer my Current Account from one bra...   \n",
       "2     My present status is NRI. What extra documents...   \n",
       "3     What are the documents required for opening a ...   \n",
       "4     What documents are required to change the addr...   \n",
       "...                                                 ...   \n",
       "1768                       Which languages do you speak   \n",
       "1769                        how much is interest for FD   \n",
       "1770             how much is interest for Fixed Deposit   \n",
       "1771                                      Fixed Deposit   \n",
       "1772                                                 FD   \n",
       "\n",
       "                                                 Answer     Class  \n",
       "0     Following documents are required to open a Cur...  accounts  \n",
       "1     Yes, Current Accounts can be transferred from ...  accounts  \n",
       "2     NRI/PIO can open the proprietorship/partnershi...  accounts  \n",
       "3     Following documents are required for opening a...  accounts  \n",
       "4     Following documents are required to change the...  accounts  \n",
       "...                                                 ...       ...  \n",
       "1768  just English. But I'm trying to learn new lang...  accounts  \n",
       "1769                                                 7%  accounts  \n",
       "1770                                                 7%  accounts  \n",
       "1771                                                 7%  accounts  \n",
       "1772                                                 7%  accounts  \n",
       "\n",
       "[1773 rows x 3 columns]"
      ]
     },
     "execution_count": 2,
     "metadata": {},
     "output_type": "execute_result"
    }
   ],
   "source": [
    "Bank_df = pd.read_csv(\"E:\\InsideAIML\\AIML Project\\AIML_Banking_Query\\content_for_cbatbot_project\\BankFAQs.csv\") \n",
    "# importing the datset\n",
    "Bank_df"
   ]
  },
  {
   "cell_type": "code",
   "execution_count": 3,
   "metadata": {},
   "outputs": [
    {
     "data": {
      "text/plain": [
       "'You can plan your visit and access your locker on all working days during banking hours.'"
      ]
     },
     "execution_count": 3,
     "metadata": {},
     "output_type": "execute_result"
    }
   ],
   "source": [
    "Bank_df['Answer'][205]"
   ]
  },
  {
   "cell_type": "code",
   "execution_count": 4,
   "metadata": {},
   "outputs": [
    {
     "data": {
      "text/plain": [
       "Question    0\n",
       "Answer      0\n",
       "Class       0\n",
       "dtype: int64"
      ]
     },
     "execution_count": 4,
     "metadata": {},
     "output_type": "execute_result"
    }
   ],
   "source": [
    "Bank_df.isnull().sum() #finding the null values if are present in the dataset"
   ]
  },
  {
   "cell_type": "code",
   "execution_count": 5,
   "metadata": {},
   "outputs": [
    {
     "name": "stdout",
     "output_type": "stream",
     "text": [
      "<class 'pandas.core.frame.DataFrame'>\n",
      "RangeIndex: 1773 entries, 0 to 1772\n",
      "Data columns (total 3 columns):\n",
      " #   Column    Non-Null Count  Dtype \n",
      "---  ------    --------------  ----- \n",
      " 0   Question  1773 non-null   object\n",
      " 1   Answer    1773 non-null   object\n",
      " 2   Class     1773 non-null   object\n",
      "dtypes: object(3)\n",
      "memory usage: 41.7+ KB\n"
     ]
    }
   ],
   "source": [
    "Bank_df.info()"
   ]
  },
  {
   "cell_type": "code",
   "execution_count": 6,
   "metadata": {},
   "outputs": [],
   "source": [
    "#importing new datset found on the internet\n",
    "df_new = pd.read_csv(\"E:\\InsideAIML\\AIML Project\\AIML_Banking_Query\\content_for_cbatbot_project\\BankFAQs from github.csv\")"
   ]
  },
  {
   "cell_type": "code",
   "execution_count": 7,
   "metadata": {},
   "outputs": [
    {
     "data": {
      "text/html": [
       "<div>\n",
       "<style scoped>\n",
       "    .dataframe tbody tr th:only-of-type {\n",
       "        vertical-align: middle;\n",
       "    }\n",
       "\n",
       "    .dataframe tbody tr th {\n",
       "        vertical-align: top;\n",
       "    }\n",
       "\n",
       "    .dataframe thead th {\n",
       "        text-align: right;\n",
       "    }\n",
       "</style>\n",
       "<table border=\"1\" class=\"dataframe\">\n",
       "  <thead>\n",
       "    <tr style=\"text-align: right;\">\n",
       "      <th></th>\n",
       "      <th>Question</th>\n",
       "      <th>Answer</th>\n",
       "      <th>Class</th>\n",
       "    </tr>\n",
       "  </thead>\n",
       "  <tbody>\n",
       "    <tr>\n",
       "      <th>0</th>\n",
       "      <td>Do I need to enter ‘#’ after keying in my Card...</td>\n",
       "      <td>Please listen to the recorded message and foll...</td>\n",
       "      <td>security</td>\n",
       "    </tr>\n",
       "    <tr>\n",
       "      <th>1</th>\n",
       "      <td>What details are required when I want to perfo...</td>\n",
       "      <td>To perform a secure IVR transaction, you will ...</td>\n",
       "      <td>security</td>\n",
       "    </tr>\n",
       "    <tr>\n",
       "      <th>2</th>\n",
       "      <td>How should I get the IVR Password  if I hold a...</td>\n",
       "      <td>An IVR password can be requested only from the...</td>\n",
       "      <td>security</td>\n",
       "    </tr>\n",
       "    <tr>\n",
       "      <th>3</th>\n",
       "      <td>How do I register my Mobile number for IVR Pas...</td>\n",
       "      <td>Please call our Customer Service Centre and en...</td>\n",
       "      <td>security</td>\n",
       "    </tr>\n",
       "    <tr>\n",
       "      <th>4</th>\n",
       "      <td>How can I obtain an IVR Password</td>\n",
       "      <td>By Sending SMS request: Send an SMS 'PWD&lt;space...</td>\n",
       "      <td>security</td>\n",
       "    </tr>\n",
       "  </tbody>\n",
       "</table>\n",
       "</div>"
      ],
      "text/plain": [
       "                                            Question  \\\n",
       "0  Do I need to enter ‘#’ after keying in my Card...   \n",
       "1  What details are required when I want to perfo...   \n",
       "2  How should I get the IVR Password  if I hold a...   \n",
       "3  How do I register my Mobile number for IVR Pas...   \n",
       "4                  How can I obtain an IVR Password    \n",
       "\n",
       "                                              Answer     Class  \n",
       "0  Please listen to the recorded message and foll...  security  \n",
       "1  To perform a secure IVR transaction, you will ...  security  \n",
       "2  An IVR password can be requested only from the...  security  \n",
       "3  Please call our Customer Service Centre and en...  security  \n",
       "4  By Sending SMS request: Send an SMS 'PWD<space...  security  "
      ]
     },
     "execution_count": 7,
     "metadata": {},
     "output_type": "execute_result"
    }
   ],
   "source": [
    "df_new.head()"
   ]
  },
  {
   "cell_type": "code",
   "execution_count": 8,
   "metadata": {},
   "outputs": [
    {
     "data": {
      "text/html": [
       "<div>\n",
       "<style scoped>\n",
       "    .dataframe tbody tr th:only-of-type {\n",
       "        vertical-align: middle;\n",
       "    }\n",
       "\n",
       "    .dataframe tbody tr th {\n",
       "        vertical-align: top;\n",
       "    }\n",
       "\n",
       "    .dataframe thead th {\n",
       "        text-align: right;\n",
       "    }\n",
       "</style>\n",
       "<table border=\"1\" class=\"dataframe\">\n",
       "  <thead>\n",
       "    <tr style=\"text-align: right;\">\n",
       "      <th></th>\n",
       "      <th>Question</th>\n",
       "      <th>Answer</th>\n",
       "      <th>Class</th>\n",
       "    </tr>\n",
       "  </thead>\n",
       "  <tbody>\n",
       "    <tr>\n",
       "      <th>0</th>\n",
       "      <td>What are the documents required for opening a ...</td>\n",
       "      <td>Following documents are required to open a Cur...</td>\n",
       "      <td>accounts</td>\n",
       "    </tr>\n",
       "    <tr>\n",
       "      <th>1</th>\n",
       "      <td>Can I transfer my Current Account from one bra...</td>\n",
       "      <td>Yes, Current Accounts can be transferred from ...</td>\n",
       "      <td>accounts</td>\n",
       "    </tr>\n",
       "    <tr>\n",
       "      <th>2</th>\n",
       "      <td>My present status is NRI. What extra documents...</td>\n",
       "      <td>NRI/PIO can open the proprietorship/partnershi...</td>\n",
       "      <td>accounts</td>\n",
       "    </tr>\n",
       "    <tr>\n",
       "      <th>3</th>\n",
       "      <td>What are the documents required for opening a ...</td>\n",
       "      <td>Following documents are required for opening a...</td>\n",
       "      <td>accounts</td>\n",
       "    </tr>\n",
       "    <tr>\n",
       "      <th>4</th>\n",
       "      <td>What documents are required to change the addr...</td>\n",
       "      <td>Following documents are required to change the...</td>\n",
       "      <td>accounts</td>\n",
       "    </tr>\n",
       "    <tr>\n",
       "      <th>...</th>\n",
       "      <td>...</td>\n",
       "      <td>...</td>\n",
       "      <td>...</td>\n",
       "    </tr>\n",
       "    <tr>\n",
       "      <th>3532</th>\n",
       "      <td>What if I forget my Prepaid NetBanking login P...</td>\n",
       "      <td>If you have forgotten the Password, then the s...</td>\n",
       "      <td>cards</td>\n",
       "    </tr>\n",
       "    <tr>\n",
       "      <th>3533</th>\n",
       "      <td>What is the maximum value for which the Card c...</td>\n",
       "      <td>There is no limit imposed on the usage of Rega...</td>\n",
       "      <td>cards</td>\n",
       "    </tr>\n",
       "    <tr>\n",
       "      <th>3534</th>\n",
       "      <td>What options should I choose to withdraw cash ...</td>\n",
       "      <td>Generally, the options available at the ATM fo...</td>\n",
       "      <td>cards</td>\n",
       "    </tr>\n",
       "    <tr>\n",
       "      <th>3535</th>\n",
       "      <td>What should I do and whom to contact if my car...</td>\n",
       "      <td>In case your card gets lost or stolen, all you...</td>\n",
       "      <td>cards</td>\n",
       "    </tr>\n",
       "    <tr>\n",
       "      <th>3536</th>\n",
       "      <td>Are there extra charges to be aware of</td>\n",
       "      <td>A few things to note - US Banks are given the ...</td>\n",
       "      <td>cards</td>\n",
       "    </tr>\n",
       "  </tbody>\n",
       "</table>\n",
       "<p>3537 rows × 3 columns</p>\n",
       "</div>"
      ],
      "text/plain": [
       "                                               Question  \\\n",
       "0     What are the documents required for opening a ...   \n",
       "1     Can I transfer my Current Account from one bra...   \n",
       "2     My present status is NRI. What extra documents...   \n",
       "3     What are the documents required for opening a ...   \n",
       "4     What documents are required to change the addr...   \n",
       "...                                                 ...   \n",
       "3532  What if I forget my Prepaid NetBanking login P...   \n",
       "3533  What is the maximum value for which the Card c...   \n",
       "3534  What options should I choose to withdraw cash ...   \n",
       "3535  What should I do and whom to contact if my car...   \n",
       "3536             Are there extra charges to be aware of   \n",
       "\n",
       "                                                 Answer     Class  \n",
       "0     Following documents are required to open a Cur...  accounts  \n",
       "1     Yes, Current Accounts can be transferred from ...  accounts  \n",
       "2     NRI/PIO can open the proprietorship/partnershi...  accounts  \n",
       "3     Following documents are required for opening a...  accounts  \n",
       "4     Following documents are required to change the...  accounts  \n",
       "...                                                 ...       ...  \n",
       "3532  If you have forgotten the Password, then the s...     cards  \n",
       "3533  There is no limit imposed on the usage of Rega...     cards  \n",
       "3534  Generally, the options available at the ATM fo...     cards  \n",
       "3535  In case your card gets lost or stolen, all you...     cards  \n",
       "3536  A few things to note - US Banks are given the ...     cards  \n",
       "\n",
       "[3537 rows x 3 columns]"
      ]
     },
     "execution_count": 8,
     "metadata": {},
     "output_type": "execute_result"
    }
   ],
   "source": [
    "# Incorporating the two datasets so that we can find out more number of queries to pass to the model tfor training.\n",
    "input_df = [Bank_df, df_new]\n",
    "input_df = pd.concat(input_df, ignore_index = True)\n",
    "input_df"
   ]
  },
  {
   "cell_type": "code",
   "execution_count": 9,
   "metadata": {},
   "outputs": [
    {
     "name": "stdout",
     "output_type": "stream",
     "text": [
      "<class 'pandas.core.frame.DataFrame'>\n",
      "RangeIndex: 3537 entries, 0 to 3536\n",
      "Data columns (total 3 columns):\n",
      " #   Column    Non-Null Count  Dtype \n",
      "---  ------    --------------  ----- \n",
      " 0   Question  3537 non-null   object\n",
      " 1   Answer    3537 non-null   object\n",
      " 2   Class     3537 non-null   object\n",
      "dtypes: object(3)\n",
      "memory usage: 83.0+ KB\n"
     ]
    }
   ],
   "source": [
    "input_df.info()"
   ]
  },
  {
   "cell_type": "code",
   "execution_count": 10,
   "metadata": {},
   "outputs": [
    {
     "data": {
      "text/plain": [
       "{'accounts',\n",
       " 'cards',\n",
       " 'fundstransfer',\n",
       " 'insurance',\n",
       " 'investments',\n",
       " 'loans',\n",
       " 'security'}"
      ]
     },
     "execution_count": 10,
     "metadata": {},
     "output_type": "execute_result"
    }
   ],
   "source": [
    "set(input_df.Class)"
   ]
  },
  {
   "cell_type": "code",
   "execution_count": 11,
   "metadata": {},
   "outputs": [
    {
     "data": {
      "text/plain": [
       "Question    1521\n",
       "Answer      1890\n",
       "Class          7\n",
       "dtype: int64"
      ]
     },
     "execution_count": 11,
     "metadata": {},
     "output_type": "execute_result"
    }
   ],
   "source": [
    "input_df.nunique()"
   ]
  },
  {
   "cell_type": "code",
   "execution_count": 12,
   "metadata": {},
   "outputs": [
    {
     "data": {
      "text/plain": [
       "insurance        938\n",
       "cards            806\n",
       "loans            750\n",
       "accounts         621\n",
       "investments      280\n",
       "security         114\n",
       "fundstransfer     28\n",
       "Name: Class, dtype: int64"
      ]
     },
     "execution_count": 12,
     "metadata": {},
     "output_type": "execute_result"
    }
   ],
   "source": [
    "# checking the maximum counts present in which class\n",
    "count = input_df['Class'].value_counts()\n",
    "count"
   ]
  },
  {
   "attachments": {},
   "cell_type": "markdown",
   "metadata": {},
   "source": [
    "# Plotting the Data so we can get more insights for further processing"
   ]
  },
  {
   "cell_type": "code",
   "execution_count": 13,
   "metadata": {},
   "outputs": [
    {
     "data": {
      "text/plain": [
       "(array([0, 1, 2, 3, 4, 5, 6]),\n",
       " [Text(0, 0, 'accounts'),\n",
       "  Text(1, 0, 'cards'),\n",
       "  Text(2, 0, 'fundstransfer'),\n",
       "  Text(3, 0, 'insurance'),\n",
       "  Text(4, 0, 'investments'),\n",
       "  Text(5, 0, 'loans'),\n",
       "  Text(6, 0, 'security')])"
      ]
     },
     "execution_count": 13,
     "metadata": {},
     "output_type": "execute_result"
    },
    {
     "data": {
      "image/png": "[encoded data removed]",
      "text/plain": [
       "<Figure size 500x400 with 1 Axes>"
      ]
     },
     "metadata": {},
     "output_type": "display_data"
    }
   ],
   "source": [
    "# Cleaned the data on the basis of null and duplicate values, Now Visualization\n",
    "# Count Plot for class\n",
    "plt.figure(figsize = (5,4))\n",
    "sns.countplot(x = input_df['Class'])\n",
    "plt.xticks(rotation = 90)"
   ]
  },
  {
   "cell_type": "code",
   "execution_count": 14,
   "metadata": {},
   "outputs": [
    {
     "data": {
      "image/png": "[encoded data removed]",
      "text/plain": [
       "<Figure size 640x480 with 1 Axes>"
      ]
     },
     "metadata": {},
     "output_type": "display_data"
    }
   ],
   "source": [
    "value_counts = input_df['Class'].value_counts()\n",
    "plt.pie(value_counts.values,labels = value_counts.index,autopct = '%1.0f%%')\n",
    "plt.show()"
   ]
  },
  {
   "cell_type": "code",
   "execution_count": 15,
   "metadata": {},
   "outputs": [
    {
     "data": {
      "image/png": "[encoded data removed]",
      "text/plain": [
       "<Figure size 640x480 with 1 Axes>"
      ]
     },
     "metadata": {},
     "output_type": "display_data"
    }
   ],
   "source": [
    "plt.figure()\n",
    "plt.bar(count.index, count.values, color = 'm')\n",
    "plt.xticks(rotation=90)\n",
    "plt.show()\n",
    "# from below bar graph we can conclude that the class insurance is having more weitage than any other class"
   ]
  },
  {
   "cell_type": "markdown",
   "metadata": {},
   "source": [
    "# Cleaning the data"
   ]
  },
  {
   "cell_type": "code",
   "execution_count": 16,
   "metadata": {},
   "outputs": [],
   "source": [
    "df = input_df"
   ]
  },
  {
   "cell_type": "code",
   "execution_count": 17,
   "metadata": {},
   "outputs": [
    {
     "data": {
      "text/plain": [
       "array(['What are the documents required for opening a Current Account of a sole proprietorship firm',\n",
       "       'Can I transfer my Current Account from one branch to another',\n",
       "       'My present status is NRI. What extra documents are required for opening a Sole Proprietorship Current Account',\n",
       "       ..., 'Where I can earn ‘Thanks Again’ Reward Points',\n",
       "       'Where I can redeem my ‘Thanks Again’ Reward points',\n",
       "       'How close does the ‘tap/ wave’ have to be to the reader'],\n",
       "      dtype=object)"
      ]
     },
     "execution_count": 17,
     "metadata": {},
     "output_type": "execute_result"
    }
   ],
   "source": [
    "df['Question'].unique()"
   ]
  },
  {
   "cell_type": "code",
   "execution_count": 18,
   "metadata": {},
   "outputs": [
    {
     "data": {
      "text/html": [
       "<div>\n",
       "<style scoped>\n",
       "    .dataframe tbody tr th:only-of-type {\n",
       "        vertical-align: middle;\n",
       "    }\n",
       "\n",
       "    .dataframe tbody tr th {\n",
       "        vertical-align: top;\n",
       "    }\n",
       "\n",
       "    .dataframe thead th {\n",
       "        text-align: right;\n",
       "    }\n",
       "</style>\n",
       "<table border=\"1\" class=\"dataframe\">\n",
       "  <thead>\n",
       "    <tr style=\"text-align: right;\">\n",
       "      <th></th>\n",
       "      <th>Question</th>\n",
       "      <th>Answer</th>\n",
       "      <th>Class</th>\n",
       "    </tr>\n",
       "  </thead>\n",
       "  <tbody>\n",
       "    <tr>\n",
       "      <th>19</th>\n",
       "      <td>Can I access my account by telephone to conduc...</td>\n",
       "      <td>Yes you can. You can use PhoneBanking to perfo...</td>\n",
       "      <td>accounts</td>\n",
       "    </tr>\n",
       "    <tr>\n",
       "      <th>21</th>\n",
       "      <td>What are the documents required for opening a ...</td>\n",
       "      <td>Following documents are required for opening a...</td>\n",
       "      <td>accounts</td>\n",
       "    </tr>\n",
       "    <tr>\n",
       "      <th>25</th>\n",
       "      <td>Can I access my account by telephone to conduc...</td>\n",
       "      <td>Yes you can. You can use PhoneBanking to perfo...</td>\n",
       "      <td>accounts</td>\n",
       "    </tr>\n",
       "    <tr>\n",
       "      <th>27</th>\n",
       "      <td>What are the documents required for opening a ...</td>\n",
       "      <td>Following documents are required for opening a...</td>\n",
       "      <td>accounts</td>\n",
       "    </tr>\n",
       "    <tr>\n",
       "      <th>33</th>\n",
       "      <td>Can I access my account from any M&amp;N  Bank branch</td>\n",
       "      <td>Yes. All M&amp;N  Bank branches and systems are in...</td>\n",
       "      <td>accounts</td>\n",
       "    </tr>\n",
       "    <tr>\n",
       "      <th>...</th>\n",
       "      <td>...</td>\n",
       "      <td>...</td>\n",
       "      <td>...</td>\n",
       "    </tr>\n",
       "    <tr>\n",
       "      <th>3531</th>\n",
       "      <td>What if I Already Earn Rewards with My Card</td>\n",
       "      <td>If you register a reward card that already ear...</td>\n",
       "      <td>cards</td>\n",
       "    </tr>\n",
       "    <tr>\n",
       "      <th>3532</th>\n",
       "      <td>What if I forget my Prepaid NetBanking login P...</td>\n",
       "      <td>If you have forgotten the Password, then the s...</td>\n",
       "      <td>cards</td>\n",
       "    </tr>\n",
       "    <tr>\n",
       "      <th>3533</th>\n",
       "      <td>What is the maximum value for which the Card c...</td>\n",
       "      <td>There is no limit imposed on the usage of Rega...</td>\n",
       "      <td>cards</td>\n",
       "    </tr>\n",
       "    <tr>\n",
       "      <th>3534</th>\n",
       "      <td>What options should I choose to withdraw cash ...</td>\n",
       "      <td>Generally, the options available at the ATM fo...</td>\n",
       "      <td>cards</td>\n",
       "    </tr>\n",
       "    <tr>\n",
       "      <th>3536</th>\n",
       "      <td>Are there extra charges to be aware of</td>\n",
       "      <td>A few things to note - US Banks are given the ...</td>\n",
       "      <td>cards</td>\n",
       "    </tr>\n",
       "  </tbody>\n",
       "</table>\n",
       "<p>1511 rows × 3 columns</p>\n",
       "</div>"
      ],
      "text/plain": [
       "                                               Question  \\\n",
       "19    Can I access my account by telephone to conduc...   \n",
       "21    What are the documents required for opening a ...   \n",
       "25    Can I access my account by telephone to conduc...   \n",
       "27    What are the documents required for opening a ...   \n",
       "33    Can I access my account from any M&N  Bank branch   \n",
       "...                                                 ...   \n",
       "3531        What if I Already Earn Rewards with My Card   \n",
       "3532  What if I forget my Prepaid NetBanking login P...   \n",
       "3533  What is the maximum value for which the Card c...   \n",
       "3534  What options should I choose to withdraw cash ...   \n",
       "3536             Are there extra charges to be aware of   \n",
       "\n",
       "                                                 Answer     Class  \n",
       "19    Yes you can. You can use PhoneBanking to perfo...  accounts  \n",
       "21    Following documents are required for opening a...  accounts  \n",
       "25    Yes you can. You can use PhoneBanking to perfo...  accounts  \n",
       "27    Following documents are required for opening a...  accounts  \n",
       "33    Yes. All M&N  Bank branches and systems are in...  accounts  \n",
       "...                                                 ...       ...  \n",
       "3531  If you register a reward card that already ear...     cards  \n",
       "3532  If you have forgotten the Password, then the s...     cards  \n",
       "3533  There is no limit imposed on the usage of Rega...     cards  \n",
       "3534  Generally, the options available at the ATM fo...     cards  \n",
       "3536  A few things to note - US Banks are given the ...     cards  \n",
       "\n",
       "[1511 rows x 3 columns]"
      ]
     },
     "execution_count": 18,
     "metadata": {},
     "output_type": "execute_result"
    }
   ],
   "source": [
    "#Removing Duplicates\n",
    "duplicate_rows = df[df.duplicated()]\n",
    "duplicate_rows"
   ]
  },
  {
   "cell_type": "code",
   "execution_count": 19,
   "metadata": {},
   "outputs": [
    {
     "data": {
      "text/html": [
       "<div>\n",
       "<style scoped>\n",
       "    .dataframe tbody tr th:only-of-type {\n",
       "        vertical-align: middle;\n",
       "    }\n",
       "\n",
       "    .dataframe tbody tr th {\n",
       "        vertical-align: top;\n",
       "    }\n",
       "\n",
       "    .dataframe thead th {\n",
       "        text-align: right;\n",
       "    }\n",
       "</style>\n",
       "<table border=\"1\" class=\"dataframe\">\n",
       "  <thead>\n",
       "    <tr style=\"text-align: right;\">\n",
       "      <th></th>\n",
       "      <th>Question</th>\n",
       "      <th>Answer</th>\n",
       "      <th>Class</th>\n",
       "    </tr>\n",
       "  </thead>\n",
       "  <tbody>\n",
       "    <tr>\n",
       "      <th>0</th>\n",
       "      <td>What are the documents required for opening a ...</td>\n",
       "      <td>Following documents are required to open a Cur...</td>\n",
       "      <td>accounts</td>\n",
       "    </tr>\n",
       "    <tr>\n",
       "      <th>1</th>\n",
       "      <td>Can I transfer my Current Account from one bra...</td>\n",
       "      <td>Yes, Current Accounts can be transferred from ...</td>\n",
       "      <td>accounts</td>\n",
       "    </tr>\n",
       "    <tr>\n",
       "      <th>2</th>\n",
       "      <td>My present status is NRI. What extra documents...</td>\n",
       "      <td>NRI/PIO can open the proprietorship/partnershi...</td>\n",
       "      <td>accounts</td>\n",
       "    </tr>\n",
       "    <tr>\n",
       "      <th>3</th>\n",
       "      <td>What are the documents required for opening a ...</td>\n",
       "      <td>Following documents are required for opening a...</td>\n",
       "      <td>accounts</td>\n",
       "    </tr>\n",
       "    <tr>\n",
       "      <th>4</th>\n",
       "      <td>What documents are required to change the addr...</td>\n",
       "      <td>Following documents are required to change the...</td>\n",
       "      <td>accounts</td>\n",
       "    </tr>\n",
       "    <tr>\n",
       "      <th>...</th>\n",
       "      <td>...</td>\n",
       "      <td>...</td>\n",
       "      <td>...</td>\n",
       "    </tr>\n",
       "    <tr>\n",
       "      <th>2021</th>\n",
       "      <td>Can the value of the card be topped up</td>\n",
       "      <td>Yes, your Regalia ForexPlus Card can be reload...</td>\n",
       "      <td>cards</td>\n",
       "    </tr>\n",
       "    <tr>\n",
       "      <th>2022</th>\n",
       "      <td>How to set Prepaid NetBanking Login User ID / ...</td>\n",
       "      <td>You may have received IPIN or Activation Code ...</td>\n",
       "      <td>cards</td>\n",
       "    </tr>\n",
       "    <tr>\n",
       "      <th>2023</th>\n",
       "      <td>Is Regalia ForexPlus Card enabled for MasterCa...</td>\n",
       "      <td>Yes, Regalia ForexPlus Card offered on MasterC...</td>\n",
       "      <td>cards</td>\n",
       "    </tr>\n",
       "    <tr>\n",
       "      <th>2024</th>\n",
       "      <td>What documents should I submit when I purchase...</td>\n",
       "      <td>HDFC Bank Savings / Current account holders ne...</td>\n",
       "      <td>cards</td>\n",
       "    </tr>\n",
       "    <tr>\n",
       "      <th>2025</th>\n",
       "      <td>What should I do and whom to contact if my car...</td>\n",
       "      <td>In case your card gets lost or stolen, all you...</td>\n",
       "      <td>cards</td>\n",
       "    </tr>\n",
       "  </tbody>\n",
       "</table>\n",
       "<p>2026 rows × 3 columns</p>\n",
       "</div>"
      ],
      "text/plain": [
       "                                               Question  \\\n",
       "0     What are the documents required for opening a ...   \n",
       "1     Can I transfer my Current Account from one bra...   \n",
       "2     My present status is NRI. What extra documents...   \n",
       "3     What are the documents required for opening a ...   \n",
       "4     What documents are required to change the addr...   \n",
       "...                                                 ...   \n",
       "2021             Can the value of the card be topped up   \n",
       "2022  How to set Prepaid NetBanking Login User ID / ...   \n",
       "2023  Is Regalia ForexPlus Card enabled for MasterCa...   \n",
       "2024  What documents should I submit when I purchase...   \n",
       "2025  What should I do and whom to contact if my car...   \n",
       "\n",
       "                                                 Answer     Class  \n",
       "0     Following documents are required to open a Cur...  accounts  \n",
       "1     Yes, Current Accounts can be transferred from ...  accounts  \n",
       "2     NRI/PIO can open the proprietorship/partnershi...  accounts  \n",
       "3     Following documents are required for opening a...  accounts  \n",
       "4     Following documents are required to change the...  accounts  \n",
       "...                                                 ...       ...  \n",
       "2021  Yes, your Regalia ForexPlus Card can be reload...     cards  \n",
       "2022  You may have received IPIN or Activation Code ...     cards  \n",
       "2023  Yes, Regalia ForexPlus Card offered on MasterC...     cards  \n",
       "2024  HDFC Bank Savings / Current account holders ne...     cards  \n",
       "2025  In case your card gets lost or stolen, all you...     cards  \n",
       "\n",
       "[2026 rows x 3 columns]"
      ]
     },
     "execution_count": 19,
     "metadata": {},
     "output_type": "execute_result"
    }
   ],
   "source": [
    "df.drop_duplicates(inplace = True)# Dropping the exact duplicated values\n",
    "df = input_df.reset_index(drop = True) #resetting index \n",
    "df"
   ]
  },
  {
   "cell_type": "code",
   "execution_count": 20,
   "metadata": {},
   "outputs": [
    {
     "data": {
      "text/plain": [
       "(2026, 3)"
      ]
     },
     "execution_count": 20,
     "metadata": {},
     "output_type": "execute_result"
    }
   ],
   "source": [
    "df.shape"
   ]
  },
  {
   "cell_type": "code",
   "execution_count": 21,
   "metadata": {},
   "outputs": [
    {
     "name": "stdout",
     "output_type": "stream",
     "text": [
      "Question 1:\n",
      " Is it necessary to open Max Current Account in each location where my company has an office\n",
      "Question 2:\n",
      " What is the initial deposit amount required to open a Max Current account\n",
      "Question 3:\n",
      " What is the minimum balance that I need to maintain in a Max Current Account\n",
      "Question 4:\n",
      " How is M&N  Bank's Max Current account different from a regular Current Account\n",
      "Question 5:\n",
      " Must I open an account in each location where I have my company office\n"
     ]
    }
   ],
   "source": [
    "#This column Questions from different users, which are longer in length, \n",
    "#and our complete analysis will be based on this data. Therefore, it becomes necessary to clean this thoroughly. \n",
    "#also there are some contractions are present so we have to remove them and get to its root word.\n",
    "for index,text in enumerate(df['Question'][35:40]):\n",
    "  print('Question %d:\\n'%(index+1),text)"
   ]
  },
  {
   "cell_type": "markdown",
   "metadata": {},
   "source": [
    "# Expand Contractions\n"
   ]
  },
  {
   "cell_type": "code",
   "execution_count": 22,
   "metadata": {},
   "outputs": [
    {
     "data": {
      "text/plain": [
       "dict"
      ]
     },
     "execution_count": 22,
     "metadata": {},
     "output_type": "execute_result"
    }
   ],
   "source": [
    "contractions_dict = { \"ain't\": \"are not\",\"'s\":\" is\",\"aren't\": \"are not\",\n",
    "                     \"can't\": \"cannot\",\"can't've\": \"cannot have\",\n",
    "                     \"'cause\": \"because\",\"could've\": \"could have\",\"couldn't\": \"could not\",\n",
    "                     \"couldn't've\": \"could not have\", \"didn't\": \"did not\",\"doesn't\": \"does not\",\n",
    "                     \"don't\": \"do not\",\"hadn't\": \"had not\",\"hadn't've\": \"had not have\",\n",
    "                     \"hasn't\": \"has not\",\"haven't\": \"have not\",\"he'd\": \"he would\",\n",
    "                     \"he'd've\": \"he would have\",\"he'll\": \"he will\", \"he'll've\": \"he will have\",\n",
    "                     \"how'd\": \"how did\",\"how'd'y\": \"how do you\",\"how'll\": \"how will\",\n",
    "                     \"I'd\": \"I would\", \"I'd've\": \"I would have\",\"I'll\": \"I will\",\n",
    "                     \"I'll've\": \"I will have\",\"I'm\": \"I am\",\"I've\": \"I have\", \"isn't\": \"is not\",\n",
    "                     \"it'd\": \"it would\",\"it'd've\": \"it would have\",\"it'll\": \"it will\",\n",
    "                     \"it'll've\": \"it will have\", \"let's\": \"let us\",\"ma'am\": \"madam\",\n",
    "                     \"mayn't\": \"may not\",\"might've\": \"might have\",\"mightn't\": \"might not\", \n",
    "                     \"mightn't've\": \"might not have\",\"must've\": \"must have\",\"mustn't\": \"must not\",\n",
    "                     \"mustn't've\": \"must not have\", \"needn't\": \"need not\",\n",
    "                     \"needn't've\": \"need not have\",\"o'clock\": \"of the clock\",\"oughtn't\": \"ought not\",\n",
    "                     \"oughtn't've\": \"ought not have\",\"shan't\": \"shall not\",\"sha'n't\": \"shall not\",\n",
    "                     \"shan't've\": \"shall not have\",\"she'd\": \"she would\",\"she'd've\": \"she would have\",\n",
    "                     \"she'll\": \"she will\", \"she'll've\": \"she will have\",\"should've\": \"should have\",\n",
    "                     \"shouldn't\": \"should not\", \"shouldn't've\": \"should not have\",\"so've\": \"so have\",\n",
    "                     \"that'd\": \"that would\",\"that'd've\": \"that would have\", \"there'd\": \"there would\",\n",
    "                     \"there'd've\": \"there would have\", \"they'd\": \"they would\",\n",
    "                     \"they'd've\": \"they would have\",\"they'll\": \"they will\",\n",
    "                     \"they'll've\": \"they will have\", \"they're\": \"they are\",\"they've\": \"they have\",\n",
    "                     \"to've\": \"to have\",\"wasn't\": \"was not\",\"we'd\": \"we would\",\n",
    "                     \"we'd've\": \"we would have\",\"we'll\": \"we will\",\"we'll've\": \"we will have\",\n",
    "                     \"we're\": \"we are\",\"we've\": \"we have\", \"weren't\": \"were not\",\"what'll\": \"what will\",\n",
    "                     \"what'll've\": \"what will have\",\"what're\": \"what are\", \"what've\": \"what have\",\n",
    "                     \"when've\": \"when have\",\"where'd\": \"where did\", \"where've\": \"where have\",\n",
    "                     \"who'll\": \"who will\",\"who'll've\": \"who will have\",\"who've\": \"who have\",\n",
    "                     \"why've\": \"why have\",\"will've\": \"will have\",\"won't\": \"will not\",\n",
    "                     \"won't've\": \"will not have\", \"would've\": \"would have\",\"wouldn't\": \"would not\",\n",
    "                     \"wouldn't've\": \"would not have\",\"y'all\": \"you all\", \"y'all'd\": \"you all would\",\n",
    "                     \"y'all'd've\": \"you all would have\",\"y'all're\": \"you all are\",\n",
    "                     \"y'all've\": \"you all have\", \"you'd\": \"you would\",\"you'd've\": \"you would have\",\n",
    "                     \"you'll\": \"you will\",\"you'll've\": \"you will have\", \"you're\": \"you are\",\n",
    "                     \"you've\": \"you have\"}\n",
    "type(contractions_dict)"
   ]
  },
  {
   "cell_type": "code",
   "execution_count": 23,
   "metadata": {},
   "outputs": [],
   "source": [
    "#expression for finding the contraction\n",
    "contractions_re = re.compile('(%s)' % '|'.join(contractions_dict.keys()))\n",
    "\n",
    "#function for finding the contraction\n",
    "def exp_contra(text, contractions_dict = contractions_dict):\n",
    "    def replace(match):\n",
    "        return contractions_dict[match.group(0)]\n",
    "    return contractions_re.sub(replace, text)\n",
    "\n",
    "# expanding the contractions in the Question columnm only\n",
    "\n",
    "df['Question'] = df['Question'].apply(lambda x : exp_contra(x))"
   ]
  },
  {
   "cell_type": "markdown",
   "metadata": {},
   "source": [
    "# Lowercasing the words"
   ]
  },
  {
   "cell_type": "code",
   "execution_count": 24,
   "metadata": {},
   "outputs": [
    {
     "name": "stdout",
     "output_type": "stream",
     "text": [
      "Question 1:\n",
      " what are the documents required for opening current account of a company\n",
      "Question 2:\n",
      " who can be a partner in a partnership firm\n",
      "Question 3:\n",
      " what is the time taken to realize outstation cheques\n",
      "Question 4:\n",
      " can an individual open a current account\n",
      "Question 5:\n",
      " can eefc account be opened by special economic zone (sez) units\n",
      "Question 6:\n",
      " what should i do in case i am unable to access my company is current account\n"
     ]
    }
   ],
   "source": [
    "# in nlp, models treat words like Men and men differently\n",
    "# to overcome the problem we lowercase the words\n",
    "# lowercasing both the Question and Answer Column\n",
    "#using lambda function\n",
    "df['Question'] = df['Question'].apply(lambda x : x.lower())\n",
    "for index,text in enumerate(df['Question'].loc[5:10]):\n",
    "  print('Question %d:\\n'%(index+1),text)"
   ]
  },
  {
   "cell_type": "markdown",
   "metadata": {},
   "source": [
    "# Removing Punctuation & special character Which found in the dataset"
   ]
  },
  {
   "cell_type": "code",
   "execution_count": 25,
   "metadata": {},
   "outputs": [],
   "source": [
    "stop_words = set(stopwords.words('english')) #Defining variable for stopwords"
   ]
  },
  {
   "cell_type": "code",
   "execution_count": 26,
   "metadata": {},
   "outputs": [
    {
     "data": {
      "text/plain": [
       "'what happens if i do not use my savings account for a very long time'"
      ]
     },
     "execution_count": 26,
     "metadata": {},
     "output_type": "execute_result"
    }
   ],
   "source": [
    "df['Question'][210]"
   ]
  },
  {
   "cell_type": "code",
   "execution_count": 27,
   "metadata": {},
   "outputs": [],
   "source": [
    "from nltk import word_tokenize"
   ]
  },
  {
   "cell_type": "code",
   "execution_count": 28,
   "metadata": {},
   "outputs": [],
   "source": [
    "def data_cleaning(text):\n",
    "    text = re.sub('[%s]' % re.escape(string.punctuation), '', text) #Removing the punctuations\n",
    "    text = re.sub(r'\\w*\\d+\\w*', '', text) # Removing the numbers\n",
    "    text = re.sub('\\n', '', text)# Removing special characters\n",
    "    text = text.encode('ascii','ignore').decode() # Removing unicode characters\n",
    "    word_tok = word_tokenize(text) # Tokenizing the text\n",
    "    filtered_text = [w for w in word_tok if not w in stop_words] # Removing stop words\n",
    "    return \" \". join(filtered_text)"
   ]
  },
  {
   "cell_type": "code",
   "execution_count": 29,
   "metadata": {},
   "outputs": [],
   "source": [
    "df['Question'] = df['Question'].apply(data_cleaning)# Applying previously defined function to the Question column for data cleaning"
   ]
  },
  {
   "cell_type": "code",
   "execution_count": 30,
   "metadata": {},
   "outputs": [
    {
     "data": {
      "text/plain": [
       "'happens use savings account long time'"
      ]
     },
     "execution_count": 30,
     "metadata": {},
     "output_type": "execute_result"
    }
   ],
   "source": [
    "df['Question'][210]"
   ]
  },
  {
   "cell_type": "code",
   "execution_count": 31,
   "metadata": {},
   "outputs": [
    {
     "data": {
      "text/plain": [
       "\"The account becomes dormant if there are no customer initiated transactions (excludes system generated transactions like credit interest, debit interest), in the account for a continuous period of two years. If the account status is 'Dormant', transactions through Direct Banking Channels like ATM, NetBanking, PhoneBanking are not be allowed by the Bank.\""
      ]
     },
     "execution_count": 31,
     "metadata": {},
     "output_type": "execute_result"
    }
   ],
   "source": [
    "df['Answer'][210]"
   ]
  },
  {
   "cell_type": "markdown",
   "metadata": {},
   "source": [
    "# Removing the Extra spaces"
   ]
  },
  {
   "cell_type": "code",
   "execution_count": 32,
   "metadata": {},
   "outputs": [],
   "source": [
    "df['Question'] = df['Question'].apply(lambda x: re.sub(' +', ' ', x))"
   ]
  },
  {
   "cell_type": "markdown",
   "metadata": {},
   "source": [
    "# Stop words Removal & Lemmatization"
   ]
  },
  {
   "cell_type": "code",
   "execution_count": 33,
   "metadata": {},
   "outputs": [
    {
     "data": {
      "text/plain": [
       "'entitled kind benefits account salary account'"
      ]
     },
     "execution_count": 33,
     "metadata": {},
     "output_type": "execute_result"
    }
   ],
   "source": [
    "df['Question'][206]"
   ]
  },
  {
   "cell_type": "code",
   "execution_count": 34,
   "metadata": {},
   "outputs": [],
   "source": [
    "import spacy\n",
    "\n",
    "nlp = spacy.load('en_core_web_sm', disable = ['parser', 'ner'])\n",
    "\n",
    "#lemmatization with stop words removal\n",
    "df['Question'] = df['Question'].apply(lambda x: ' '.join([token.lemma_ for token in list(nlp(x)) if (token.is_stop == False)]))"
   ]
  },
  {
   "cell_type": "code",
   "execution_count": 35,
   "metadata": {},
   "outputs": [
    {
     "data": {
      "text/plain": [
       "'entitle kind benefit account salary account'"
      ]
     },
     "execution_count": 35,
     "metadata": {},
     "output_type": "execute_result"
    }
   ],
   "source": [
    "df['Question'][206]"
   ]
  },
  {
   "cell_type": "markdown",
   "metadata": {},
   "source": [
    "# Label encoding the Class column"
   ]
  },
  {
   "cell_type": "code",
   "execution_count": 36,
   "metadata": {},
   "outputs": [
    {
     "data": {
      "text/plain": [
       "array([0, 1, 2, 3, 4, 5, 6])"
      ]
     },
     "execution_count": 36,
     "metadata": {},
     "output_type": "execute_result"
    }
   ],
   "source": [
    "\n",
    "# Import label encoder\n",
    "from sklearn import preprocessing\n",
    "LE = preprocessing.LabelEncoder()  \n",
    "# Encode labels in column 'Class'.\n",
    "df['Class']= LE.fit_transform(df['Class'])\n",
    "df['Class'].unique()"
   ]
  },
  {
   "attachments": {},
   "cell_type": "markdown",
   "metadata": {},
   "source": [
    "# Applying train test split"
   ]
  },
  {
   "cell_type": "code",
   "execution_count": 37,
   "metadata": {},
   "outputs": [
    {
     "data": {
      "text/plain": [
       "array(['document require open current account sole proprietorship firm',\n",
       "       'transfer current account branch',\n",
       "       'present status nri extra document require open sole proprietorship current account',\n",
       "       ..., 'regalia forexplus card enable mastercard secure pass',\n",
       "       'document submit purchase regalia forexplus card',\n",
       "       'contact card lose'], dtype=object)"
      ]
     },
     "execution_count": 37,
     "metadata": {},
     "output_type": "execute_result"
    }
   ],
   "source": [
    "x = df[\"Question\"].values\n",
    "x# Taking the IDV as 'x' and converting to array"
   ]
  },
  {
   "cell_type": "code",
   "execution_count": 38,
   "metadata": {},
   "outputs": [
    {
     "data": {
      "text/plain": [
       "array([0, 0, 0, ..., 1, 1, 1])"
      ]
     },
     "execution_count": 38,
     "metadata": {},
     "output_type": "execute_result"
    }
   ],
   "source": [
    "y = df['Class'].values #Taking the DV as 'y' and converting it into array\n",
    "y"
   ]
  },
  {
   "attachments": {},
   "cell_type": "markdown",
   "metadata": {},
   "source": [
    "# Applying Tfid"
   ]
  },
  {
   "cell_type": "code",
   "execution_count": 39,
   "metadata": {},
   "outputs": [],
   "source": [
    "from sklearn.feature_extraction.text import TfidfVectorizer\n",
    "vect = TfidfVectorizer()\n",
    "x_vect = vect.fit_transform(x)"
   ]
  },
  {
   "cell_type": "code",
   "execution_count": 40,
   "metadata": {},
   "outputs": [
    {
     "data": {
      "text/plain": [
       "matrix([[0., 0., 0., ..., 0., 0., 0.],\n",
       "        [0., 0., 0., ..., 0., 0., 0.],\n",
       "        [0., 0., 0., ..., 0., 0., 0.],\n",
       "        ...,\n",
       "        [0., 0., 0., ..., 0., 0., 0.],\n",
       "        [0., 0., 0., ..., 0., 0., 0.],\n",
       "        [0., 0., 0., ..., 0., 0., 0.]])"
      ]
     },
     "execution_count": 40,
     "metadata": {},
     "output_type": "execute_result"
    }
   ],
   "source": [
    "x_vect.todense()"
   ]
  },
  {
   "cell_type": "code",
   "execution_count": 41,
   "metadata": {},
   "outputs": [
    {
     "data": {
      "text/html": [
       "<div>\n",
       "<style scoped>\n",
       "    .dataframe tbody tr th:only-of-type {\n",
       "        vertical-align: middle;\n",
       "    }\n",
       "\n",
       "    .dataframe tbody tr th {\n",
       "        vertical-align: top;\n",
       "    }\n",
       "\n",
       "    .dataframe thead th {\n",
       "        text-align: right;\n",
       "    }\n",
       "</style>\n",
       "<table border=\"1\" class=\"dataframe\">\n",
       "  <thead>\n",
       "    <tr style=\"text-align: right;\">\n",
       "      <th></th>\n",
       "      <th>able</th>\n",
       "      <th>abroad</th>\n",
       "      <th>accept</th>\n",
       "      <th>access</th>\n",
       "      <th>accessory</th>\n",
       "      <th>accident</th>\n",
       "      <th>accidental</th>\n",
       "      <th>account</th>\n",
       "      <th>accumulate</th>\n",
       "      <th>acknowledgement</th>\n",
       "      <th>...</th>\n",
       "      <th>withdrawal</th>\n",
       "      <th>woman</th>\n",
       "      <th>womans</th>\n",
       "      <th>work</th>\n",
       "      <th>world</th>\n",
       "      <th>write</th>\n",
       "      <th>year</th>\n",
       "      <th>yearly</th>\n",
       "      <th>zero</th>\n",
       "      <th>zone</th>\n",
       "    </tr>\n",
       "  </thead>\n",
       "  <tbody>\n",
       "    <tr>\n",
       "      <th>0</th>\n",
       "      <td>0.0</td>\n",
       "      <td>0.0</td>\n",
       "      <td>0.0</td>\n",
       "      <td>0.0</td>\n",
       "      <td>0.0</td>\n",
       "      <td>0.0</td>\n",
       "      <td>0.0</td>\n",
       "      <td>0.185775</td>\n",
       "      <td>0.0</td>\n",
       "      <td>0.0</td>\n",
       "      <td>...</td>\n",
       "      <td>0.0</td>\n",
       "      <td>0.0</td>\n",
       "      <td>0.0</td>\n",
       "      <td>0.0</td>\n",
       "      <td>0.0</td>\n",
       "      <td>0.0</td>\n",
       "      <td>0.0</td>\n",
       "      <td>0.0</td>\n",
       "      <td>0.0</td>\n",
       "      <td>0.0</td>\n",
       "    </tr>\n",
       "    <tr>\n",
       "      <th>1</th>\n",
       "      <td>0.0</td>\n",
       "      <td>0.0</td>\n",
       "      <td>0.0</td>\n",
       "      <td>0.0</td>\n",
       "      <td>0.0</td>\n",
       "      <td>0.0</td>\n",
       "      <td>0.0</td>\n",
       "      <td>0.303552</td>\n",
       "      <td>0.0</td>\n",
       "      <td>0.0</td>\n",
       "      <td>...</td>\n",
       "      <td>0.0</td>\n",
       "      <td>0.0</td>\n",
       "      <td>0.0</td>\n",
       "      <td>0.0</td>\n",
       "      <td>0.0</td>\n",
       "      <td>0.0</td>\n",
       "      <td>0.0</td>\n",
       "      <td>0.0</td>\n",
       "      <td>0.0</td>\n",
       "      <td>0.0</td>\n",
       "    </tr>\n",
       "    <tr>\n",
       "      <th>2</th>\n",
       "      <td>0.0</td>\n",
       "      <td>0.0</td>\n",
       "      <td>0.0</td>\n",
       "      <td>0.0</td>\n",
       "      <td>0.0</td>\n",
       "      <td>0.0</td>\n",
       "      <td>0.0</td>\n",
       "      <td>0.148354</td>\n",
       "      <td>0.0</td>\n",
       "      <td>0.0</td>\n",
       "      <td>...</td>\n",
       "      <td>0.0</td>\n",
       "      <td>0.0</td>\n",
       "      <td>0.0</td>\n",
       "      <td>0.0</td>\n",
       "      <td>0.0</td>\n",
       "      <td>0.0</td>\n",
       "      <td>0.0</td>\n",
       "      <td>0.0</td>\n",
       "      <td>0.0</td>\n",
       "      <td>0.0</td>\n",
       "    </tr>\n",
       "    <tr>\n",
       "      <th>3</th>\n",
       "      <td>0.0</td>\n",
       "      <td>0.0</td>\n",
       "      <td>0.0</td>\n",
       "      <td>0.0</td>\n",
       "      <td>0.0</td>\n",
       "      <td>0.0</td>\n",
       "      <td>0.0</td>\n",
       "      <td>0.191251</td>\n",
       "      <td>0.0</td>\n",
       "      <td>0.0</td>\n",
       "      <td>...</td>\n",
       "      <td>0.0</td>\n",
       "      <td>0.0</td>\n",
       "      <td>0.0</td>\n",
       "      <td>0.0</td>\n",
       "      <td>0.0</td>\n",
       "      <td>0.0</td>\n",
       "      <td>0.0</td>\n",
       "      <td>0.0</td>\n",
       "      <td>0.0</td>\n",
       "      <td>0.0</td>\n",
       "    </tr>\n",
       "    <tr>\n",
       "      <th>4</th>\n",
       "      <td>0.0</td>\n",
       "      <td>0.0</td>\n",
       "      <td>0.0</td>\n",
       "      <td>0.0</td>\n",
       "      <td>0.0</td>\n",
       "      <td>0.0</td>\n",
       "      <td>0.0</td>\n",
       "      <td>0.000000</td>\n",
       "      <td>0.0</td>\n",
       "      <td>0.0</td>\n",
       "      <td>...</td>\n",
       "      <td>0.0</td>\n",
       "      <td>0.0</td>\n",
       "      <td>0.0</td>\n",
       "      <td>0.0</td>\n",
       "      <td>0.0</td>\n",
       "      <td>0.0</td>\n",
       "      <td>0.0</td>\n",
       "      <td>0.0</td>\n",
       "      <td>0.0</td>\n",
       "      <td>0.0</td>\n",
       "    </tr>\n",
       "    <tr>\n",
       "      <th>...</th>\n",
       "      <td>...</td>\n",
       "      <td>...</td>\n",
       "      <td>...</td>\n",
       "      <td>...</td>\n",
       "      <td>...</td>\n",
       "      <td>...</td>\n",
       "      <td>...</td>\n",
       "      <td>...</td>\n",
       "      <td>...</td>\n",
       "      <td>...</td>\n",
       "      <td>...</td>\n",
       "      <td>...</td>\n",
       "      <td>...</td>\n",
       "      <td>...</td>\n",
       "      <td>...</td>\n",
       "      <td>...</td>\n",
       "      <td>...</td>\n",
       "      <td>...</td>\n",
       "      <td>...</td>\n",
       "      <td>...</td>\n",
       "      <td>...</td>\n",
       "    </tr>\n",
       "    <tr>\n",
       "      <th>2021</th>\n",
       "      <td>0.0</td>\n",
       "      <td>0.0</td>\n",
       "      <td>0.0</td>\n",
       "      <td>0.0</td>\n",
       "      <td>0.0</td>\n",
       "      <td>0.0</td>\n",
       "      <td>0.0</td>\n",
       "      <td>0.000000</td>\n",
       "      <td>0.0</td>\n",
       "      <td>0.0</td>\n",
       "      <td>...</td>\n",
       "      <td>0.0</td>\n",
       "      <td>0.0</td>\n",
       "      <td>0.0</td>\n",
       "      <td>0.0</td>\n",
       "      <td>0.0</td>\n",
       "      <td>0.0</td>\n",
       "      <td>0.0</td>\n",
       "      <td>0.0</td>\n",
       "      <td>0.0</td>\n",
       "      <td>0.0</td>\n",
       "    </tr>\n",
       "    <tr>\n",
       "      <th>2022</th>\n",
       "      <td>0.0</td>\n",
       "      <td>0.0</td>\n",
       "      <td>0.0</td>\n",
       "      <td>0.0</td>\n",
       "      <td>0.0</td>\n",
       "      <td>0.0</td>\n",
       "      <td>0.0</td>\n",
       "      <td>0.000000</td>\n",
       "      <td>0.0</td>\n",
       "      <td>0.0</td>\n",
       "      <td>...</td>\n",
       "      <td>0.0</td>\n",
       "      <td>0.0</td>\n",
       "      <td>0.0</td>\n",
       "      <td>0.0</td>\n",
       "      <td>0.0</td>\n",
       "      <td>0.0</td>\n",
       "      <td>0.0</td>\n",
       "      <td>0.0</td>\n",
       "      <td>0.0</td>\n",
       "      <td>0.0</td>\n",
       "    </tr>\n",
       "    <tr>\n",
       "      <th>2023</th>\n",
       "      <td>0.0</td>\n",
       "      <td>0.0</td>\n",
       "      <td>0.0</td>\n",
       "      <td>0.0</td>\n",
       "      <td>0.0</td>\n",
       "      <td>0.0</td>\n",
       "      <td>0.0</td>\n",
       "      <td>0.000000</td>\n",
       "      <td>0.0</td>\n",
       "      <td>0.0</td>\n",
       "      <td>...</td>\n",
       "      <td>0.0</td>\n",
       "      <td>0.0</td>\n",
       "      <td>0.0</td>\n",
       "      <td>0.0</td>\n",
       "      <td>0.0</td>\n",
       "      <td>0.0</td>\n",
       "      <td>0.0</td>\n",
       "      <td>0.0</td>\n",
       "      <td>0.0</td>\n",
       "      <td>0.0</td>\n",
       "    </tr>\n",
       "    <tr>\n",
       "      <th>2024</th>\n",
       "      <td>0.0</td>\n",
       "      <td>0.0</td>\n",
       "      <td>0.0</td>\n",
       "      <td>0.0</td>\n",
       "      <td>0.0</td>\n",
       "      <td>0.0</td>\n",
       "      <td>0.0</td>\n",
       "      <td>0.000000</td>\n",
       "      <td>0.0</td>\n",
       "      <td>0.0</td>\n",
       "      <td>...</td>\n",
       "      <td>0.0</td>\n",
       "      <td>0.0</td>\n",
       "      <td>0.0</td>\n",
       "      <td>0.0</td>\n",
       "      <td>0.0</td>\n",
       "      <td>0.0</td>\n",
       "      <td>0.0</td>\n",
       "      <td>0.0</td>\n",
       "      <td>0.0</td>\n",
       "      <td>0.0</td>\n",
       "    </tr>\n",
       "    <tr>\n",
       "      <th>2025</th>\n",
       "      <td>0.0</td>\n",
       "      <td>0.0</td>\n",
       "      <td>0.0</td>\n",
       "      <td>0.0</td>\n",
       "      <td>0.0</td>\n",
       "      <td>0.0</td>\n",
       "      <td>0.0</td>\n",
       "      <td>0.000000</td>\n",
       "      <td>0.0</td>\n",
       "      <td>0.0</td>\n",
       "      <td>...</td>\n",
       "      <td>0.0</td>\n",
       "      <td>0.0</td>\n",
       "      <td>0.0</td>\n",
       "      <td>0.0</td>\n",
       "      <td>0.0</td>\n",
       "      <td>0.0</td>\n",
       "      <td>0.0</td>\n",
       "      <td>0.0</td>\n",
       "      <td>0.0</td>\n",
       "      <td>0.0</td>\n",
       "    </tr>\n",
       "  </tbody>\n",
       "</table>\n",
       "<p>2026 rows × 1014 columns</p>\n",
       "</div>"
      ],
      "text/plain": [
       "      able  abroad  accept  access  accessory  accident  accidental   account  \\\n",
       "0      0.0     0.0     0.0     0.0        0.0       0.0         0.0  0.185775   \n",
       "1      0.0     0.0     0.0     0.0        0.0       0.0         0.0  0.303552   \n",
       "2      0.0     0.0     0.0     0.0        0.0       0.0         0.0  0.148354   \n",
       "3      0.0     0.0     0.0     0.0        0.0       0.0         0.0  0.191251   \n",
       "4      0.0     0.0     0.0     0.0        0.0       0.0         0.0  0.000000   \n",
       "...    ...     ...     ...     ...        ...       ...         ...       ...   \n",
       "2021   0.0     0.0     0.0     0.0        0.0       0.0         0.0  0.000000   \n",
       "2022   0.0     0.0     0.0     0.0        0.0       0.0         0.0  0.000000   \n",
       "2023   0.0     0.0     0.0     0.0        0.0       0.0         0.0  0.000000   \n",
       "2024   0.0     0.0     0.0     0.0        0.0       0.0         0.0  0.000000   \n",
       "2025   0.0     0.0     0.0     0.0        0.0       0.0         0.0  0.000000   \n",
       "\n",
       "      accumulate  acknowledgement  ...  withdrawal  woman  womans  work  \\\n",
       "0            0.0              0.0  ...         0.0    0.0     0.0   0.0   \n",
       "1            0.0              0.0  ...         0.0    0.0     0.0   0.0   \n",
       "2            0.0              0.0  ...         0.0    0.0     0.0   0.0   \n",
       "3            0.0              0.0  ...         0.0    0.0     0.0   0.0   \n",
       "4            0.0              0.0  ...         0.0    0.0     0.0   0.0   \n",
       "...          ...              ...  ...         ...    ...     ...   ...   \n",
       "2021         0.0              0.0  ...         0.0    0.0     0.0   0.0   \n",
       "2022         0.0              0.0  ...         0.0    0.0     0.0   0.0   \n",
       "2023         0.0              0.0  ...         0.0    0.0     0.0   0.0   \n",
       "2024         0.0              0.0  ...         0.0    0.0     0.0   0.0   \n",
       "2025         0.0              0.0  ...         0.0    0.0     0.0   0.0   \n",
       "\n",
       "      world  write  year  yearly  zero  zone  \n",
       "0       0.0    0.0   0.0     0.0   0.0   0.0  \n",
       "1       0.0    0.0   0.0     0.0   0.0   0.0  \n",
       "2       0.0    0.0   0.0     0.0   0.0   0.0  \n",
       "3       0.0    0.0   0.0     0.0   0.0   0.0  \n",
       "4       0.0    0.0   0.0     0.0   0.0   0.0  \n",
       "...     ...    ...   ...     ...   ...   ...  \n",
       "2021    0.0    0.0   0.0     0.0   0.0   0.0  \n",
       "2022    0.0    0.0   0.0     0.0   0.0   0.0  \n",
       "2023    0.0    0.0   0.0     0.0   0.0   0.0  \n",
       "2024    0.0    0.0   0.0     0.0   0.0   0.0  \n",
       "2025    0.0    0.0   0.0     0.0   0.0   0.0  \n",
       "\n",
       "[2026 rows x 1014 columns]"
      ]
     },
     "execution_count": 41,
     "metadata": {},
     "output_type": "execute_result"
    }
   ],
   "source": [
    "df_vect = pd.DataFrame(x_vect.todense(), columns = vect.get_feature_names_out())\n",
    "df_vect"
   ]
  },
  {
   "cell_type": "code",
   "execution_count": 42,
   "metadata": {},
   "outputs": [
    {
     "name": "stdout",
     "output_type": "stream",
     "text": [
      "Train set - (1620, 1014) (1620,)\n",
      "Test set - (406, 1014) (406,)\n"
     ]
    }
   ],
   "source": [
    "# Applying train test split \n",
    "x_train, x_test, y_train, y_test = train_test_split(x_vect, y, test_size = 0.20, random_state = 30)\n",
    "print(\"Train set -\", x_train.shape, y_train.shape)\n",
    "print(\"Test set -\", x_test.shape, y_test.shape)"
   ]
  },
  {
   "cell_type": "code",
   "execution_count": 43,
   "metadata": {},
   "outputs": [],
   "source": [
    "classifier = svm.SVC(kernel = 'linear')\n",
    "classifier.fit(x_train, y_train)\n",
    "y_pred = classifier.predict(x_test)\n",
    "from sklearn.metrics import f1_score, precision_score, recall_score, accuracy_score"
   ]
  },
  {
   "cell_type": "code",
   "execution_count": 44,
   "metadata": {},
   "outputs": [
    {
     "name": "stdout",
     "output_type": "stream",
     "text": [
      "Accuracy_score-  95.81956887505052\n"
     ]
    }
   ],
   "source": [
    "print(\"Accuracy_score- \", f1_score(y_test, y_pred, average = 'weighted') * 100)"
   ]
  },
  {
   "cell_type": "code",
   "execution_count": 45,
   "metadata": {},
   "outputs": [
    {
     "name": "stdout",
     "output_type": "stream",
     "text": [
      "Precision_score-  95.96617711790125\n"
     ]
    }
   ],
   "source": [
    "print(\"Precision_score- \", precision_score(y_test,y_pred, average = 'weighted') * 100)"
   ]
  },
  {
   "cell_type": "code",
   "execution_count": 46,
   "metadata": {},
   "outputs": [
    {
     "name": "stdout",
     "output_type": "stream",
     "text": [
      "Accuracy_score  95.8128078817734\n"
     ]
    }
   ],
   "source": [
    "print(\"Accuracy_score \", accuracy_score(y_test,y_pred) * 100)"
   ]
  },
  {
   "cell_type": "code",
   "execution_count": 47,
   "metadata": {},
   "outputs": [
    {
     "data": {
      "text/html": [
       "<style>#sk-container-id-1 {color: black;background-color: white;}#sk-container-id-1 pre{padding: 0;}#sk-container-id-1 div.sk-toggleable {background-color: white;}#sk-container-id-1 label.sk-toggleable__label {cursor: pointer;display: block;width: 100%;margin-bottom: 0;padding: 0.3em;box-sizing: border-box;text-align: center;}#sk-container-id-1 label.sk-toggleable__label-arrow:before {content: \"▸\";float: left;margin-right: 0.25em;color: #696969;}#sk-container-id-1 label.sk-toggleable__label-arrow:hover:before {color: black;}#sk-container-id-1 div.sk-estimator:hover label.sk-toggleable__label-arrow:before {color: black;}#sk-container-id-1 div.sk-toggleable__content {max-height: 0;max-width: 0;overflow: hidden;text-align: left;background-color: #f0f8ff;}#sk-container-id-1 div.sk-toggleable__content pre {margin: 0.2em;color: black;border-radius: 0.25em;background-color: #f0f8ff;}#sk-container-id-1 input.sk-toggleable__control:checked~div.sk-toggleable__content {max-height: 200px;max-width: 100%;overflow: auto;}#sk-container-id-1 input.sk-toggleable__control:checked~label.sk-toggleable__label-arrow:before {content: \"▾\";}#sk-container-id-1 div.sk-estimator input.sk-toggleable__control:checked~label.sk-toggleable__label {background-color: #d4ebff;}#sk-container-id-1 div.sk-label input.sk-toggleable__control:checked~label.sk-toggleable__label {background-color: #d4ebff;}#sk-container-id-1 input.sk-hidden--visually {border: 0;clip: rect(1px 1px 1px 1px);clip: rect(1px, 1px, 1px, 1px);height: 1px;margin: -1px;overflow: hidden;padding: 0;position: absolute;width: 1px;}#sk-container-id-1 div.sk-estimator {font-family: monospace;background-color: #f0f8ff;border: 1px dotted black;border-radius: 0.25em;box-sizing: border-box;margin-bottom: 0.5em;}#sk-container-id-1 div.sk-estimator:hover {background-color: #d4ebff;}#sk-container-id-1 div.sk-parallel-item::after {content: \"\";width: 100%;border-bottom: 1px solid gray;flex-grow: 1;}#sk-container-id-1 div.sk-label:hover label.sk-toggleable__label {background-color: #d4ebff;}#sk-container-id-1 div.sk-serial::before {content: \"\";position: absolute;border-left: 1px solid gray;box-sizing: border-box;top: 0;bottom: 0;left: 50%;z-index: 0;}#sk-container-id-1 div.sk-serial {display: flex;flex-direction: column;align-items: center;background-color: white;padding-right: 0.2em;padding-left: 0.2em;position: relative;}#sk-container-id-1 div.sk-item {position: relative;z-index: 1;}#sk-container-id-1 div.sk-parallel {display: flex;align-items: stretch;justify-content: center;background-color: white;position: relative;}#sk-container-id-1 div.sk-item::before, #sk-container-id-1 div.sk-parallel-item::before {content: \"\";position: absolute;border-left: 1px solid gray;box-sizing: border-box;top: 0;bottom: 0;left: 50%;z-index: -1;}#sk-container-id-1 div.sk-parallel-item {display: flex;flex-direction: column;z-index: 1;position: relative;background-color: white;}#sk-container-id-1 div.sk-parallel-item:first-child::after {align-self: flex-end;width: 50%;}#sk-container-id-1 div.sk-parallel-item:last-child::after {align-self: flex-start;width: 50%;}#sk-container-id-1 div.sk-parallel-item:only-child::after {width: 0;}#sk-container-id-1 div.sk-dashed-wrapped {border: 1px dashed gray;margin: 0 0.4em 0.5em 0.4em;box-sizing: border-box;padding-bottom: 0.4em;background-color: white;}#sk-container-id-1 div.sk-label label {font-family: monospace;font-weight: bold;display: inline-block;line-height: 1.2em;}#sk-container-id-1 div.sk-label-container {text-align: center;}#sk-container-id-1 div.sk-container {/* jupyter's `normalize.less` sets `[hidden] { display: none; }` but bootstrap.min.css set `[hidden] { display: none !important; }` so we also need the `!important` here to be able to override the default hidden behavior on the sphinx rendered scikit-learn.org. See: https://github.com/scikit-learn/scikit-learn/issues/21755 */display: inline-block !important;position: relative;}#sk-container-id-1 div.sk-text-repr-fallback {display: none;}</style><div id=\"sk-container-id-1\" class=\"sk-top-container\"><div class=\"sk-text-repr-fallback\"><pre>SVC(kernel=&#x27;linear&#x27;)</pre><b>In a Jupyter environment, please rerun this cell to show the HTML representation or trust the notebook. <br />On GitHub, the HTML representation is unable to render, please try loading this page with nbviewer.org.</b></div><div class=\"sk-container\" hidden><div class=\"sk-item\"><div class=\"sk-estimator sk-toggleable\"><input class=\"sk-toggleable__control sk-hidden--visually\" id=\"sk-estimator-id-1\" type=\"checkbox\" checked><label for=\"sk-estimator-id-1\" class=\"sk-toggleable__label sk-toggleable__label-arrow\">SVC</label><div class=\"sk-toggleable__content\"><pre>SVC(kernel=&#x27;linear&#x27;)</pre></div></div></div></div></div>"
      ],
      "text/plain": [
       "SVC(kernel='linear')"
      ]
     },
     "execution_count": 47,
     "metadata": {},
     "output_type": "execute_result"
    }
   ],
   "source": [
    "classifier = svm.SVC(kernel = 'linear')\n",
    "classifier.fit(x_train, y_train)"
   ]
  },
  {
   "cell_type": "code",
   "execution_count": 48,
   "metadata": {},
   "outputs": [],
   "source": [
    "pickle.dump(classifier,open('model1.pkl','wb'))\n",
    "pickle.dump(vect,open('vectorizer.pkl','wb'))"
   ]
  },
  {
   "cell_type": "code",
   "execution_count": 49,
   "metadata": {},
   "outputs": [],
   "source": [
    "from sklearn.metrics.pairwise import cosine_similarity"
   ]
  },
  {
   "cell_type": "code",
   "execution_count": 50,
   "metadata": {},
   "outputs": [
    {
     "name": "stdout",
     "output_type": "stream",
     "text": [
      "For all options other than Life Long Protection and 3D Life Long Protection options â€“ 5 to 40 years For Life Long Protection and 3D Life Long Protection options â€“ Whole of Life\n"
     ]
    }
   ],
   "source": [
    "Input_question = \"happens use savings account long time\"\n",
    "vectorizer = TfidfVectorizer()\n",
    "## Create a TF-IDF vectorizer to convert the text data and query to a vector representation\n",
    "vectorizer.fit_transform(df['Answer'].values.tolist() + [Input_question])\n",
    "# Get the vector representation of the question and answer\n",
    "answer_vectors = vectorizer.transform(df['Answer']).toarray()\n",
    "test_vector = vectorizer.transform([Input_question]).toarray()\n",
    "# Calculate the cosine similarity between both vectors\n",
    "cosine_sims = cosine_similarity(answer_vectors, test_vector)\n",
    "# Get the index of the most similar text to the query\n",
    "most_similar_idx = np.argmax(cosine_sims)\n",
    "# Print the most similar text as the answer to the query\n",
    "print(df.iloc[most_similar_idx]['Answer'])"
   ]
  },
  {
   "cell_type": "code",
   "execution_count": null,
   "metadata": {},
   "outputs": [],
   "source": []
  },
  {
   "cell_type": "code",
   "execution_count": null,
   "metadata": {},
   "outputs": [],
   "source": []
  }
 ],
 "metadata": {
  "kernelspec": {
   "display_name": "Python 3 (ipykernel)",
   "language": "python",
   "name": "python3"
  },
  "language_info": {
   "codemirror_mode": {
    "name": "ipython",
    "version": 3
   },
   "file_extension": ".py",
   "mimetype": "text/x-python",
   "name": "python",
   "nbconvert_exporter": "python",
   "pygments_lexer": "ipython3",
   "version": "3.11.2"
  },
  "vscode": {
   "interpreter": {
    "hash": "734c91d2b7da3f011e0c7d4dbebc913c2b995e08d95a1bc6f9a5fa0427bfc9da"
   }
  }
 },
 "nbformat": 4,
 "nbformat_minor": 2
}
